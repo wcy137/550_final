{
 "cells": [
  {
   "cell_type": "code",
   "execution_count": 15,
   "metadata": {},
   "outputs": [],
   "source": [
    "from qiskit_ibm_runtime import QiskitRuntimeService\n",
    "from qiskit_experiments.library.tomography import ProcessTomography\n",
    "from qiskit import QuantumCircuit\n",
    "from qiskit_ibm_runtime.fake_provider import FakeKyoto\n",
    "from qiskit_aer import AerSimulator\n",
    "from qiskit.providers.fake_provider import GenericBackendV2\n",
    "from qiskit.quantum_info import Chi, Choi, Kraus, SuperOp\n",
    "import numpy as np\n",
    "from qiskit_experiments.framework import ParallelExperiment, BatchExperiment\n",
    "import gen_funcs"
   ]
  },
  {
   "cell_type": "code",
   "execution_count": 16,
   "metadata": {},
   "outputs": [],
   "source": [
    "service = QiskitRuntimeService(channel=\"ibm_quantum\")\n",
    "# backend = service.backend(\"ibm_kyoto\")\n",
    "backend = service.least_busy(operational=True, simulator=False)"
   ]
  },
  {
   "cell_type": "code",
   "execution_count": 17,
   "metadata": {},
   "outputs": [],
   "source": [
    "# simulator = AerSimulator.from_backend(FakeKyoto())\n",
    "# ns_simulator = AerSimulator.from_backend(GenericBackendV2(num_qubits=2))"
   ]
  },
  {
   "cell_type": "code",
   "execution_count": 18,
   "metadata": {},
   "outputs": [
    {
     "data": {
      "text/plain": [
       "<qiskit.circuit.quantumcircuit.QuantumCircuit at 0x2ad382ea0>"
      ]
     },
     "execution_count": 18,
     "metadata": {},
     "output_type": "execute_result"
    }
   ],
   "source": [
    "base_circ = QuantumCircuit(1)\n",
    "base_circ.id(0)\n",
    "base_circ.repeat(2)"
   ]
  },
  {
   "cell_type": "code",
   "execution_count": 19,
   "metadata": {},
   "outputs": [],
   "source": [
    "circ_ls = gen_funcs.gen_circ_ls(base_circ, 3)\n",
    "qubit_ls = gen_funcs.gen_qubit_ls(6, 2, repeat=False)"
   ]
  },
  {
   "cell_type": "code",
   "execution_count": 22,
   "metadata": {},
   "outputs": [
    {
     "ename": "AttributeError",
     "evalue": "module 'gen_funcs' has no attribute 'parallel_exp_1q2q'",
     "output_type": "error",
     "traceback": [
      "\u001b[0;31m---------------------------------------------------------------------------\u001b[0m",
      "\u001b[0;31mAttributeError\u001b[0m                            Traceback (most recent call last)",
      "Cell \u001b[0;32mIn[22], line 1\u001b[0m\n\u001b[0;32m----> 1\u001b[0m parallel_qpt \u001b[38;5;241m=\u001b[39m \u001b[43mgen_funcs\u001b[49m\u001b[38;5;241;43m.\u001b[39;49m\u001b[43mparallel_exp_1q2q\u001b[49m(circ_ls, backend, qubit_ls)\n",
      "\u001b[0;31mAttributeError\u001b[0m: module 'gen_funcs' has no attribute 'parallel_exp_1q2q'"
     ]
    }
   ],
   "source": [
    "parallel_qpt = gen_funcs.parallel_exp_1q2q(circ_ls, backend, qubit_ls)"
   ]
  },
  {
   "cell_type": "code",
   "execution_count": null,
   "metadata": {},
   "outputs": [],
   "source": []
  }
 ],
 "metadata": {
  "kernelspec": {
   "display_name": "qc-_5qBaIPN-py3.12",
   "language": "python",
   "name": "python3"
  },
  "language_info": {
   "codemirror_mode": {
    "name": "ipython",
    "version": 3
   },
   "file_extension": ".py",
   "mimetype": "text/x-python",
   "name": "python",
   "nbconvert_exporter": "python",
   "pygments_lexer": "ipython3",
   "version": "3.12.0"
  }
 },
 "nbformat": 4,
 "nbformat_minor": 2
}
