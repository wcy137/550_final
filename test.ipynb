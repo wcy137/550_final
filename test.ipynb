{
 "cells": [
  {
   "cell_type": "code",
   "execution_count": 1,
   "metadata": {},
   "outputs": [],
   "source": [
    "from qiskit_ibm_runtime import QiskitRuntimeService\n",
    "from qiskit_experiments.library.tomography import ProcessTomography\n",
    "from qiskit import QuantumCircuit\n",
    "from qiskit_ibm_runtime.fake_provider import FakeKyoto\n",
    "from qiskit_aer import AerSimulator\n",
    "from qiskit.providers.fake_provider import GenericBackendV2\n",
    "from qiskit.quantum_info import Chi, Choi, Kraus, SuperOp\n",
    "import numpy as np\n",
    "from qiskit_experiments.framework import ParallelExperiment, BatchExperiment"
   ]
  },
  {
   "cell_type": "code",
   "execution_count": 2,
   "metadata": {},
   "outputs": [],
   "source": [
    "service = QiskitRuntimeService(channel=\"ibm_quantum\")\n",
    "backend = service.backend(\"ibm_osaka\")"
   ]
  },
  {
   "cell_type": "code",
   "execution_count": 2,
   "metadata": {},
   "outputs": [],
   "source": [
    "# simulator = AerSimulator.from_backend(FakeKyoto())\n",
    "# ns_simulator = AerSimulator.from_backend(GenericBackendV2(num_qubits=2))"
   ]
  },
  {
   "cell_type": "code",
   "execution_count": 3,
   "metadata": {},
   "outputs": [],
   "source": [
    "# def qspt(qc, backend, max_circuits, qubits_used, analysis='default', backend_type='simulator'):\n",
    "#     if backend_type == 'real':\n",
    "#         backend.open_session()\n",
    "#     exp = ProcessTomography(qc, backend, physical_qubits=qubits_used, analysis=analysis)\n",
    "#     exp.set_experiment_options(max_circuits=max_circuits)\n",
    "#     exp_data = exp.run(backend=backend, analysis=analysis)\n",
    "#     if backend_type == 'real':\n",
    "#         backend.close_session()\n",
    "#     return exp_data\n",
    "\n",
    "# def loop_qspt(qc_ls, backend, qubits_used, analysis='default', backend_type='simulator', max_circuits=300):\n",
    "#     exp_data_ls = []\n",
    "#     for circuit in qc_ls:\n",
    "#         exp_data_ls.append(qspt(circuit, backend, max_circuits, qubits_used, analysis, backend_type))\n",
    "#     return exp_data_ls\n",
    "\n",
    "def generate_circ_ls(base_qc, num_partitions):\n",
    "    qc_ls = []\n",
    "    # print(base_qc.draw())\n",
    "    for i in range(num_partitions):\n",
    "        curr_qc = base_qc.repeat(i)\n",
    "        curr_qc = curr_qc.decompose(reps=1)\n",
    "        qc_ls.append(curr_qc)\n",
    "    return qc_ls\n",
    "\n",
    "def to_matrix(l, n):\n",
    "    arr_ls = [l[i:i+n] for i in range(0, len(l), n)]\n",
    "    ls = [l.tolist() for l in arr_ls]\n",
    "    return ls\n",
    "\n",
    "def exp_2q(qc_ls, backend, qubit_ls, analysis='default', max_circuits=300):\n",
    "    exp_ls = []\n",
    "    for i in range(len(qc_ls)):\n",
    "          curr_qc = qc_ls[i]\n",
    "          curr_qubits_used = qubit_ls[i]\n",
    "          curr_exp = ProcessTomography(curr_qc, backend, physical_qubits=curr_qubits_used, analysis=analysis)\n",
    "          exp_ls.append(curr_exp)\n",
    "        #   parallel_exp_ls = ParallelExperiment(exp_ls[0: 63], flatten_results=False)\n",
    "    parallel_exp_ls = [ParallelExperiment(exp_ls[0: 63], flatten_results=False), ParallelExperiment(exp_ls[63: len(exp_ls)], flatten_results=False)]\n",
    "    batch_exp = BatchExperiment(parallel_exp_ls, flatten_results=False)\n",
    "    return batch_exp\n",
    "                       \n",
    "\n",
    "\n",
    "# def post_process(exp_data_ls):\n",
    "#     return measure\n",
    "\n"
   ]
  },
  {
   "cell_type": "code",
   "execution_count": 13,
   "metadata": {},
   "outputs": [],
   "source": [
    "id_circ = QuantumCircuit(2)\n",
    "id_circ.id(0)\n",
    "id_circ.id(1)\n",
    "\n",
    "circ_ls = generate_circ_ls(id_circ, 126)\n",
    "# circ_ls[4].draw()\n",
    "qubit_ls = to_matrix(np.arange(0, 126), 2)\n",
    "qubit_ls.extend(qubit_ls)\n",
    "exp = exp_2q(circ_ls, backend=backend, qubit_ls=qubit_ls)\n",
    "# qubit_ls\n",
    "q2_data = exp.run(backend=backend)\n",
    "q2_data.auto_save = True"
   ]
  },
  {
   "cell_type": "code",
   "execution_count": 6,
   "metadata": {},
   "outputs": [
    {
     "data": {
      "text/plain": [
       "ExperimentData(ProcessTomography, d8b0bcbf-6128-4477-94ef-5df32990ac96, job_ids=['crqxdne3qnq000858afg'], metadata=<5 items>)"
      ]
     },
     "execution_count": 6,
     "metadata": {},
     "output_type": "execute_result"
    },
    {
     "name": "stderr",
     "output_type": "stream",
     "text": [
      "Job was cancelled before completion [Job ID: crqxdne3qnq000858afg]\n"
     ]
    }
   ],
   "source": [
    "ProcessTomography(id_circ, backend=backend, physical_qubits=[1, 2], analysis='default').run()"
   ]
  },
  {
   "cell_type": "code",
   "execution_count": 191,
   "metadata": {},
   "outputs": [],
   "source": [
    "qc = QuantumCircuit(1)\n",
    "qc.x(0)\n",
    "qc.num_qubits\n",
    "qc_ls = generate_circ_ls(base_qc=qc, num_partitions=5)\n",
    "qc_ls[3].draw()\n",
    "# exp_data = batch_qspt(qc_ls, backend=ns_simulator, qubits_used = range(0, 1))"
   ]
  },
  {
   "cell_type": "code",
   "execution_count": 192,
   "metadata": {},
   "outputs": [
    {
     "data": {
      "text/html": [
       "<div>\n",
       "<style scoped>\n",
       "    .dataframe tbody tr th:only-of-type {\n",
       "        vertical-align: middle;\n",
       "    }\n",
       "\n",
       "    .dataframe tbody tr th {\n",
       "        vertical-align: top;\n",
       "    }\n",
       "\n",
       "    .dataframe thead th {\n",
       "        text-align: right;\n",
       "    }\n",
       "</style>\n",
       "<table border=\"1\" class=\"dataframe\">\n",
       "  <thead>\n",
       "    <tr style=\"text-align: right;\">\n",
       "      <th></th>\n",
       "      <th>name</th>\n",
       "      <th>experiment</th>\n",
       "      <th>components</th>\n",
       "      <th>value</th>\n",
       "      <th>quality</th>\n",
       "      <th>backend</th>\n",
       "      <th>run_time</th>\n",
       "      <th>trace</th>\n",
       "      <th>eigvals</th>\n",
       "      <th>raw_eigvals</th>\n",
       "      <th>rescaled_psd</th>\n",
       "      <th>fitter_metadata</th>\n",
       "      <th>conditional_probability</th>\n",
       "      <th>completely_positive</th>\n",
       "      <th>delta</th>\n",
       "      <th>conditional_measurement_index</th>\n",
       "    </tr>\n",
       "  </thead>\n",
       "  <tbody>\n",
       "    <tr>\n",
       "      <th>aec0e6e5</th>\n",
       "      <td>state</td>\n",
       "      <td>ProcessTomography</td>\n",
       "      <td>[Q0]</td>\n",
       "      <td>Choi([[ 0.00456883+0.00000000e+00j,  0.0011961...</td>\n",
       "      <td>None</td>\n",
       "      <td>aer_simulator_from(generic_backend_2q)</td>\n",
       "      <td>None</td>\n",
       "      <td>2.0</td>\n",
       "      <td>[1.972256651480704, 0.027743348519291368, 0.0,...</td>\n",
       "      <td>[1.9826475990404004, 0.038134296078987724, -9....</td>\n",
       "      <td>True</td>\n",
       "      <td>{'fitter': 'linear_inversion', 'fitter_time': ...</td>\n",
       "      <td>1.0</td>\n",
       "      <td>True</td>\n",
       "      <td>None</td>\n",
       "      <td>None</td>\n",
       "    </tr>\n",
       "    <tr>\n",
       "      <th>c7ecee77</th>\n",
       "      <td>process_fidelity</td>\n",
       "      <td>ProcessTomography</td>\n",
       "      <td>[Q0]</td>\n",
       "      <td>0.986017</td>\n",
       "      <td>None</td>\n",
       "      <td>aer_simulator_from(generic_backend_2q)</td>\n",
       "      <td>None</td>\n",
       "      <td>None</td>\n",
       "      <td>None</td>\n",
       "      <td>None</td>\n",
       "      <td>None</td>\n",
       "      <td>None</td>\n",
       "      <td>None</td>\n",
       "      <td>None</td>\n",
       "      <td>None</td>\n",
       "      <td>None</td>\n",
       "    </tr>\n",
       "    <tr>\n",
       "      <th>629da5e3</th>\n",
       "      <td>completely_positive</td>\n",
       "      <td>ProcessTomography</td>\n",
       "      <td>[Q0]</td>\n",
       "      <td>True</td>\n",
       "      <td>None</td>\n",
       "      <td>aer_simulator_from(generic_backend_2q)</td>\n",
       "      <td>None</td>\n",
       "      <td>None</td>\n",
       "      <td>None</td>\n",
       "      <td>None</td>\n",
       "      <td>None</td>\n",
       "      <td>None</td>\n",
       "      <td>None</td>\n",
       "      <td>None</td>\n",
       "      <td>None</td>\n",
       "      <td>None</td>\n",
       "    </tr>\n",
       "    <tr>\n",
       "      <th>324e41e9</th>\n",
       "      <td>trace_preserving</td>\n",
       "      <td>ProcessTomography</td>\n",
       "      <td>[Q0]</td>\n",
       "      <td>False</td>\n",
       "      <td>None</td>\n",
       "      <td>aer_simulator_from(generic_backend_2q)</td>\n",
       "      <td>None</td>\n",
       "      <td>None</td>\n",
       "      <td>None</td>\n",
       "      <td>None</td>\n",
       "      <td>None</td>\n",
       "      <td>None</td>\n",
       "      <td>None</td>\n",
       "      <td>None</td>\n",
       "      <td>0.012197</td>\n",
       "      <td>(None, None)</td>\n",
       "    </tr>\n",
       "  </tbody>\n",
       "</table>\n",
       "</div>"
      ],
      "text/plain": [
       "                         name         experiment components  \\\n",
       "aec0e6e5                state  ProcessTomography       [Q0]   \n",
       "c7ecee77     process_fidelity  ProcessTomography       [Q0]   \n",
       "629da5e3  completely_positive  ProcessTomography       [Q0]   \n",
       "324e41e9     trace_preserving  ProcessTomography       [Q0]   \n",
       "\n",
       "                                                      value quality  \\\n",
       "aec0e6e5  Choi([[ 0.00456883+0.00000000e+00j,  0.0011961...    None   \n",
       "c7ecee77                                           0.986017    None   \n",
       "629da5e3                                               True    None   \n",
       "324e41e9                                              False    None   \n",
       "\n",
       "                                         backend run_time trace  \\\n",
       "aec0e6e5  aer_simulator_from(generic_backend_2q)     None   2.0   \n",
       "c7ecee77  aer_simulator_from(generic_backend_2q)     None  None   \n",
       "629da5e3  aer_simulator_from(generic_backend_2q)     None  None   \n",
       "324e41e9  aer_simulator_from(generic_backend_2q)     None  None   \n",
       "\n",
       "                                                    eigvals  \\\n",
       "aec0e6e5  [1.972256651480704, 0.027743348519291368, 0.0,...   \n",
       "c7ecee77                                               None   \n",
       "629da5e3                                               None   \n",
       "324e41e9                                               None   \n",
       "\n",
       "                                                raw_eigvals rescaled_psd  \\\n",
       "aec0e6e5  [1.9826475990404004, 0.038134296078987724, -9....         True   \n",
       "c7ecee77                                               None         None   \n",
       "629da5e3                                               None         None   \n",
       "324e41e9                                               None         None   \n",
       "\n",
       "                                            fitter_metadata  \\\n",
       "aec0e6e5  {'fitter': 'linear_inversion', 'fitter_time': ...   \n",
       "c7ecee77                                               None   \n",
       "629da5e3                                               None   \n",
       "324e41e9                                               None   \n",
       "\n",
       "         conditional_probability completely_positive     delta  \\\n",
       "aec0e6e5                     1.0                True      None   \n",
       "c7ecee77                    None                None      None   \n",
       "629da5e3                    None                None      None   \n",
       "324e41e9                    None                None  0.012197   \n",
       "\n",
       "         conditional_measurement_index  \n",
       "aec0e6e5                          None  \n",
       "c7ecee77                          None  \n",
       "629da5e3                          None  \n",
       "324e41e9                  (None, None)  "
      ]
     },
     "execution_count": 192,
     "metadata": {},
     "output_type": "execute_result"
    }
   ],
   "source": [
    "exp_data[3].analysis_results(dataframe=True)"
   ]
  },
  {
   "cell_type": "code",
   "execution_count": 190,
   "metadata": {},
   "outputs": [],
   "source": [
    "result = qspt(qc, ns_simulator, 300, qubits_used=range(0, 1))"
   ]
  },
  {
   "cell_type": "code",
   "execution_count": 188,
   "metadata": {},
   "outputs": [
    {
     "data": {
      "text/html": [
       "<div>\n",
       "<style scoped>\n",
       "    .dataframe tbody tr th:only-of-type {\n",
       "        vertical-align: middle;\n",
       "    }\n",
       "\n",
       "    .dataframe tbody tr th {\n",
       "        vertical-align: top;\n",
       "    }\n",
       "\n",
       "    .dataframe thead th {\n",
       "        text-align: right;\n",
       "    }\n",
       "</style>\n",
       "<table border=\"1\" class=\"dataframe\">\n",
       "  <thead>\n",
       "    <tr style=\"text-align: right;\">\n",
       "      <th></th>\n",
       "      <th>name</th>\n",
       "      <th>experiment</th>\n",
       "      <th>components</th>\n",
       "      <th>value</th>\n",
       "      <th>quality</th>\n",
       "      <th>backend</th>\n",
       "      <th>run_time</th>\n",
       "      <th>trace</th>\n",
       "      <th>eigvals</th>\n",
       "      <th>raw_eigvals</th>\n",
       "      <th>rescaled_psd</th>\n",
       "      <th>fitter_metadata</th>\n",
       "      <th>conditional_probability</th>\n",
       "      <th>completely_positive</th>\n",
       "      <th>delta</th>\n",
       "      <th>conditional_measurement_index</th>\n",
       "    </tr>\n",
       "  </thead>\n",
       "  <tbody>\n",
       "    <tr>\n",
       "      <th>1eaa871a</th>\n",
       "      <td>state</td>\n",
       "      <td>ProcessTomography</td>\n",
       "      <td>[Q0]</td>\n",
       "      <td>Choi([[ 3.03255316e-03+0.00000000e+00j,  1.215...</td>\n",
       "      <td>None</td>\n",
       "      <td>aer_simulator_from(generic_backend_2q)</td>\n",
       "      <td>None</td>\n",
       "      <td>2.0</td>\n",
       "      <td>[1.9856119690528715, 0.01438803094712366, 0.0,...</td>\n",
       "      <td>[2.0022366297934924, 0.031012691687744544, 0.0...</td>\n",
       "      <td>True</td>\n",
       "      <td>{'fitter': 'linear_inversion', 'fitter_time': ...</td>\n",
       "      <td>1.0</td>\n",
       "      <td>True</td>\n",
       "      <td>None</td>\n",
       "      <td>None</td>\n",
       "    </tr>\n",
       "    <tr>\n",
       "      <th>43b3c0dd</th>\n",
       "      <td>process_fidelity</td>\n",
       "      <td>ProcessTomography</td>\n",
       "      <td>[Q0]</td>\n",
       "      <td>0.992665</td>\n",
       "      <td>None</td>\n",
       "      <td>aer_simulator_from(generic_backend_2q)</td>\n",
       "      <td>None</td>\n",
       "      <td>None</td>\n",
       "      <td>None</td>\n",
       "      <td>None</td>\n",
       "      <td>None</td>\n",
       "      <td>None</td>\n",
       "      <td>None</td>\n",
       "      <td>None</td>\n",
       "      <td>None</td>\n",
       "      <td>None</td>\n",
       "    </tr>\n",
       "    <tr>\n",
       "      <th>66f5f770</th>\n",
       "      <td>completely_positive</td>\n",
       "      <td>ProcessTomography</td>\n",
       "      <td>[Q0]</td>\n",
       "      <td>True</td>\n",
       "      <td>None</td>\n",
       "      <td>aer_simulator_from(generic_backend_2q)</td>\n",
       "      <td>None</td>\n",
       "      <td>None</td>\n",
       "      <td>None</td>\n",
       "      <td>None</td>\n",
       "      <td>None</td>\n",
       "      <td>None</td>\n",
       "      <td>None</td>\n",
       "      <td>None</td>\n",
       "      <td>None</td>\n",
       "      <td>None</td>\n",
       "    </tr>\n",
       "    <tr>\n",
       "      <th>30352149</th>\n",
       "      <td>trace_preserving</td>\n",
       "      <td>ProcessTomography</td>\n",
       "      <td>[Q0]</td>\n",
       "      <td>False</td>\n",
       "      <td>None</td>\n",
       "      <td>aer_simulator_from(generic_backend_2q)</td>\n",
       "      <td>None</td>\n",
       "      <td>None</td>\n",
       "      <td>None</td>\n",
       "      <td>None</td>\n",
       "      <td>None</td>\n",
       "      <td>None</td>\n",
       "      <td>None</td>\n",
       "      <td>None</td>\n",
       "      <td>0.035065</td>\n",
       "      <td>(None, None)</td>\n",
       "    </tr>\n",
       "  </tbody>\n",
       "</table>\n",
       "</div>"
      ],
      "text/plain": [
       "                         name         experiment components  \\\n",
       "1eaa871a                state  ProcessTomography       [Q0]   \n",
       "43b3c0dd     process_fidelity  ProcessTomography       [Q0]   \n",
       "66f5f770  completely_positive  ProcessTomography       [Q0]   \n",
       "30352149     trace_preserving  ProcessTomography       [Q0]   \n",
       "\n",
       "                                                      value quality  \\\n",
       "1eaa871a  Choi([[ 3.03255316e-03+0.00000000e+00j,  1.215...    None   \n",
       "43b3c0dd                                           0.992665    None   \n",
       "66f5f770                                               True    None   \n",
       "30352149                                              False    None   \n",
       "\n",
       "                                         backend run_time trace  \\\n",
       "1eaa871a  aer_simulator_from(generic_backend_2q)     None   2.0   \n",
       "43b3c0dd  aer_simulator_from(generic_backend_2q)     None  None   \n",
       "66f5f770  aer_simulator_from(generic_backend_2q)     None  None   \n",
       "30352149  aer_simulator_from(generic_backend_2q)     None  None   \n",
       "\n",
       "                                                    eigvals  \\\n",
       "1eaa871a  [1.9856119690528715, 0.01438803094712366, 0.0,...   \n",
       "43b3c0dd                                               None   \n",
       "66f5f770                                               None   \n",
       "30352149                                               None   \n",
       "\n",
       "                                                raw_eigvals rescaled_psd  \\\n",
       "1eaa871a  [2.0022366297934924, 0.031012691687744544, 0.0...         True   \n",
       "43b3c0dd                                               None         None   \n",
       "66f5f770                                               None         None   \n",
       "30352149                                               None         None   \n",
       "\n",
       "                                            fitter_metadata  \\\n",
       "1eaa871a  {'fitter': 'linear_inversion', 'fitter_time': ...   \n",
       "43b3c0dd                                               None   \n",
       "66f5f770                                               None   \n",
       "30352149                                               None   \n",
       "\n",
       "         conditional_probability completely_positive     delta  \\\n",
       "1eaa871a                     1.0                True      None   \n",
       "43b3c0dd                    None                None      None   \n",
       "66f5f770                    None                None      None   \n",
       "30352149                    None                None  0.035065   \n",
       "\n",
       "         conditional_measurement_index  \n",
       "1eaa871a                          None  \n",
       "43b3c0dd                          None  \n",
       "66f5f770                          None  \n",
       "30352149                  (None, None)  "
      ]
     },
     "execution_count": 188,
     "metadata": {},
     "output_type": "execute_result"
    }
   ],
   "source": [
    "a = result.analysis_results(dataframe=True)\n",
    "a"
   ]
  },
  {
   "cell_type": "code",
   "execution_count": 72,
   "metadata": {},
   "outputs": [],
   "source": [
    "value = a.iloc[0].value\n",
    "eigvals = a.iloc[0].eigvals"
   ]
  },
  {
   "cell_type": "code",
   "execution_count": 73,
   "metadata": {},
   "outputs": [
    {
     "data": {
      "text/plain": [
       "Choi([[ 0.00606083+0.00000000e+00j, -0.01579157+9.30501208e-03j,\n",
       "       -0.0113328 +1.11067465e-02j,  0.00297409-8.19291737e-04j],\n",
       "      [-0.01579157-9.30501208e-03j,  0.99477263-1.96249408e-17j,\n",
       "        0.9930149 +9.12054196e-03j,  0.00773035-1.01471958e-02j],\n",
       "      [-0.0113328 -1.11067465e-02j,  0.9930149 -9.12054196e-03j,\n",
       "        0.99659618+2.31094302e-17j,  0.0096521 -1.12555197e-02j],\n",
       "      [ 0.00297409+8.19291737e-04j,  0.00773035+1.01471958e-02j,\n",
       "        0.0096521 +1.12555197e-02j,  0.00257036-3.02064724e-20j]],\n",
       "     input_dims=(2,), output_dims=(2,))"
      ]
     },
     "execution_count": 73,
     "metadata": {},
     "output_type": "execute_result"
    }
   ],
   "source": [
    "value"
   ]
  },
  {
   "cell_type": "code",
   "execution_count": 74,
   "metadata": {},
   "outputs": [
    {
     "data": {
      "text/plain": [
       "array([1.98922287e+00, 9.71304880e-03, 1.06408044e-03, 0.00000000e+00])"
      ]
     },
     "execution_count": 74,
     "metadata": {},
     "output_type": "execute_result"
    }
   ],
   "source": [
    "eigvals"
   ]
  },
  {
   "cell_type": "code",
   "execution_count": 76,
   "metadata": {},
   "outputs": [
    {
     "data": {
      "text/plain": [
       "Chi([[ 7.28968566e-03-5.42101086e-20j, -4.87095817e-03+2.09072371e-02j,\n",
       "       1.45502922e-03-3.19026282e-03j,  1.74523277e-03+8.19291737e-04j],\n",
       "     [-4.87095817e-03-2.09072371e-02j,  1.98869931e+00+6.93889390e-18j,\n",
       "       9.12054196e-03-9.11771340e-04j, -2.22534105e-02+4.95478443e-04j],\n",
       "     [ 1.45502922e-03+3.19026282e-03j,  9.12054196e-03+9.11771340e-04j,\n",
       "       2.66950365e-03-3.46944695e-18j,  3.46705247e-04+1.26850749e-03j],\n",
       "     [ 1.74523277e-03-8.19291737e-04j, -2.22534105e-02-4.95478443e-04j,\n",
       "       3.46705247e-04-1.26850749e-03j,  1.34150492e-03+5.42101086e-20j]],\n",
       "    input_dims=(2,), output_dims=(2,))"
      ]
     },
     "execution_count": 76,
     "metadata": {},
     "output_type": "execute_result"
    }
   ],
   "source": [
    "Chi(value)"
   ]
  },
  {
   "cell_type": "code",
   "execution_count": 79,
   "metadata": {},
   "outputs": [
    {
     "data": {
      "text/plain": [
       "True"
      ]
     },
     "execution_count": 79,
     "metadata": {},
     "output_type": "execute_result"
    }
   ],
   "source": [
    "Choi(Chi(value)) == value"
   ]
  },
  {
   "cell_type": "code",
   "execution_count": 81,
   "metadata": {},
   "outputs": [
    {
     "data": {
      "text/plain": [
       "Kraus([[[-1.70525008e-02-5.27408668e-18j,\n",
       "          7.99321655e-01+5.96959997e-01j],\n",
       "        [ 7.93108518e-01+6.03691429e-01j,\n",
       "          4.78470716e-04+1.38218949e-02j]],\n",
       "\n",
       "       [[-7.55890625e-02-2.84574618e-16j,\n",
       "         -3.12209807e-02+1.10308619e-02j],\n",
       "        [ 3.08080234e-02-1.18710785e-02j,\n",
       "         -4.08389795e-02-1.20429990e-02j]],\n",
       "\n",
       "       [[ 7.50559159e-03-7.16641231e-11j,\n",
       "         -8.30456614e-03-1.24271640e-02j],\n",
       "        [ 8.21570844e-03+1.22725593e-02j,\n",
       "         -1.39536879e-02+1.92750443e-02j]]],\n",
       "      input_dims=(2,), output_dims=(2,))"
      ]
     },
     "execution_count": 81,
     "metadata": {},
     "output_type": "execute_result"
    }
   ],
   "source": [
    "Kraus(value)"
   ]
  },
  {
   "cell_type": "code",
   "execution_count": 84,
   "metadata": {},
   "outputs": [
    {
     "data": {
      "text/plain": [
       "SuperOp([[ 0.00606083+0.00000000e+00j, -0.0113328 -1.11067465e-02j,\n",
       "          -0.0113328 +1.11067465e-02j,  0.99659618+2.31094302e-17j],\n",
       "         [-0.01579157-9.30501208e-03j,  0.00297409+8.19291737e-04j,\n",
       "           0.9930149 +9.12054196e-03j,  0.0096521 +1.12555197e-02j],\n",
       "         [-0.01579157+9.30501208e-03j,  0.9930149 -9.12054196e-03j,\n",
       "           0.00297409-8.19291737e-04j,  0.0096521 -1.12555197e-02j],\n",
       "         [ 0.99477263-1.96249408e-17j,  0.00773035+1.01471958e-02j,\n",
       "           0.00773035-1.01471958e-02j,  0.00257036-3.02064724e-20j]],\n",
       "        input_dims=(2,), output_dims=(2,))"
      ]
     },
     "execution_count": 84,
     "metadata": {},
     "output_type": "execute_result"
    }
   ],
   "source": [
    "SuperOp(value)"
   ]
  },
  {
   "cell_type": "code",
   "execution_count": null,
   "metadata": {},
   "outputs": [],
   "source": []
  }
 ],
 "metadata": {
  "kernelspec": {
   "display_name": "qc-_5qBaIPN-py3.12",
   "language": "python",
   "name": "python3"
  },
  "language_info": {
   "codemirror_mode": {
    "name": "ipython",
    "version": 3
   },
   "file_extension": ".py",
   "mimetype": "text/x-python",
   "name": "python",
   "nbconvert_exporter": "python",
   "pygments_lexer": "ipython3",
   "version": "3.12.0"
  }
 },
 "nbformat": 4,
 "nbformat_minor": 2
}
